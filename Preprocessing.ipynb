{
 "cells": [
  {
   "cell_type": "code",
   "execution_count": 1,
   "metadata": {},
   "outputs": [
    {
     "name": "stderr",
     "output_type": "stream",
     "text": [
      "Global seed set to 42\n"
     ]
    },
    {
     "data": {
      "text/plain": [
       "42"
      ]
     },
     "execution_count": 1,
     "metadata": {},
     "output_type": "execute_result"
    }
   ],
   "source": [
    "import torch\n",
    "import os\n",
    "import copy\n",
    "import random\n",
    "import timm\n",
    "import wandb\n",
    "import cv2\n",
    "import torchmetrics\n",
    "\n",
    "import pandas as pd\n",
    "import numpy as np\n",
    "import matplotlib.pyplot as plt\n",
    "import seaborn as sns\n",
    "import torch.nn as nn\n",
    "import pytorch_lightning as pl\n",
    "import albumentations as A\n",
    "import torch.optim.lr_scheduler as lr_scheduler\n",
    "\n",
    "from datetime import datetime, timezone, timedelta\n",
    "from PIL import Image\n",
    "from sklearn.model_selection import train_test_split\n",
    "from albumentations.pytorch.transforms import ToTensorV2\n",
    "from tqdm import tqdm\n",
    "from ipywidgets import interact\n",
    "\n",
    "from torch.utils.data import DataLoader, Dataset\n",
    "from torchmetrics.functional.classification import multilabel_accuracy\n",
    "from torchmetrics.functional import accuracy\n",
    "\n",
    "\n",
    "from pytorch_lightning.callbacks import ModelCheckpoint\n",
    "from pytorch_lightning.callbacks.early_stopping import EarlyStopping\n",
    "from sklearn.model_selection import KFold, StratifiedKFold, GroupKFold\n",
    "from pytorch_lightning.loggers import WandbLogger\n",
    "\n",
    "pl.seed_everything(42)"
   ]
  },
  {
   "cell_type": "code",
   "execution_count": 3,
   "metadata": {},
   "outputs": [],
   "source": [
    "device = torch.device('cuda') if torch.cuda.is_available() else torch.device('cpu')"
   ]
  },
  {
   "cell_type": "code",
   "execution_count": 6,
   "metadata": {},
   "outputs": [],
   "source": [
    "train = pd.read_csv('./Data/train_label.csv')\n",
    "val = pd.read_csv('./Data/val_label.csv')"
   ]
  },
  {
   "cell_type": "code",
   "execution_count": null,
   "metadata": {},
   "outputs": [],
   "source": []
  }
 ],
 "metadata": {
  "kernelspec": {
   "display_name": "Usepytorch",
   "language": "python",
   "name": "python3"
  },
  "language_info": {
   "codemirror_mode": {
    "name": "ipython",
    "version": 3
   },
   "file_extension": ".py",
   "mimetype": "text/x-python",
   "name": "python",
   "nbconvert_exporter": "python",
   "pygments_lexer": "ipython3",
   "version": "3.8.13"
  },
  "orig_nbformat": 4,
  "vscode": {
   "interpreter": {
    "hash": "6ceb60943034ff4e2cd5fc13f5c8eeba8047a22115f0bc6df2962eb9a601a852"
   }
  }
 },
 "nbformat": 4,
 "nbformat_minor": 2
}
